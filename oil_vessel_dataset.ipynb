{
  "nbformat": 4,
  "nbformat_minor": 0,
  "metadata": {
    "colab": {
      "name": "oil_vessel_dataset.ipynb",
      "provenance": [],
      "collapsed_sections": [],
      "include_colab_link": true
    },
    "kernelspec": {
      "name": "python3",
      "display_name": "Python 3"
    },
    "language_info": {
      "name": "python"
    }
  },
  "cells": [
    {
      "cell_type": "markdown",
      "metadata": {
        "id": "view-in-github",
        "colab_type": "text"
      },
      "source": [
        "<a href=\"https://colab.research.google.com/github/aishwaryamathur/stinky/blob/master/oil_vessel_dataset.ipynb\" target=\"_parent\"><img src=\"https://colab.research.google.com/assets/colab-badge.svg\" alt=\"Open In Colab\"/></a>"
      ]
    },
    {
      "cell_type": "markdown",
      "metadata": {
        "id": "VNYM07ttGzBj"
      },
      "source": [
        "# Summary\n",
        "\n",
        "*   This file loads and merges two xlsx spreadsheets, which include oil vessel arrival data into Portland for 2020 and 2021.\n",
        "* Running all cells (Runtime --> Run all) will automatically download df_vessels.csv, on the user's computer, after loading and merging the raw data.\n",
        "*   New columns were added to df_vessels.csv to look at dates more granularly.\n",
        "\n",
        "# Instructions for updating:\n",
        "First, in Excel: user uploading data from Excel should do the following first:\n",
        "\n",
        "1. data should be on one sheet only. if data is pulled from other sheets in Excel file, user should copy/paste (values only) data in place, then delete all other sheets.\n",
        "2. delete empty rows above column names.\n",
        "3. column names should be in one row only. Unmerge any merged rows that contain column names. Delete all unmerged rows that do not contain the main column name.\n",
        "4. ensure column names match the order of the sequence below. If not, then move columns so that they remain in this order. Do not rename columns to match names below; this notebook will rename them.\n",
        "\n",
        "> 'ARRIVAL DATE', 'ARRIVAL TIME (if avail)', 'TERMINAL', 'SHIP NAME', 'LAST PORT OF CALL (if avail)', 'PRODUCT TYPE - OIL', 'PRODUCT AMOUNT - OIL, Incoming (Multiply metric tons by 7.5 for approx bbls)', 'PRODUCT AMOUNT - OIL, Outgoing', 'RUNNING TOTAL (Oil)', 'PRODUCT TYPE - NON-OIL',\t'PRODUCT AMOUNT - NON OIL, Incoming', 'PRODUCT AMOUNT - NON OIL, Outgoing', 'Running Total (Specify units) (Non-Oil)'\n",
        "\n",
        "5. check that all dates have been entered correctly (e.g. original 2021 Excel file contained date \"2/13/20221\" - errors such as this should be fixed in Excel to 2/13/2021).\n",
        "6. Delete any empty rows at the end of the sheet.\n",
        "7.   save as csv.\n",
        "\n",
        "Second, on GitHub:\n",
        "\n",
        "1. If receive new data in a new spreadsheet: first, go through steps above in Excel.\n",
        "2. Upload new spreadsheet (csv) to [vessels_data_raw folder](https://github.com/ds5110/stinky/tree/master/vessels_data). Filename does not matter but must end in '.csv'.\n",
        "3. Open this notebook in Google colab.\n",
        "4. Follow instructions in cell 1 (\"How to add a new csv file to code\").\n",
        "4. Runtime --> Run all: this will download the updated df_vessels table.\n",
        "5. Save as df_vessels.csv and upload to [data folder](https://github.com/ds5110/stinky/tree/master/data). (Do not need to delete old df_vessels.csv file; GitHub will automatically replace with new file.)\n"
      ]
    },
    {
      "cell_type": "markdown",
      "metadata": {
        "id": "0QfaSPDwogX3"
      },
      "source": [
        "# How to add a new csv file to code\n",
        "* In cell immediately below, make two changes:\n",
        "1. add new url, using this format: url_name = 'URL'\n",
        "  * to get 'URL', go to [vessels_data_raw folder](https://github.com/ds5110/stinky/tree/master/vessels_data) and click on new file.\n",
        "  * click on \"Raw\" (top right side of page)\n",
        "  * copy URL and paste in cell below\n",
        "\n",
        "2. add url_name to url_lst\n",
        "\n",
        "Examples of both changes are provided in comments in cell below."
      ]
    },
    {
      "cell_type": "code",
      "metadata": {
        "colab": {
          "base_uri": "https://localhost:8080/"
        },
        "id": "oa7DJsOIe0Hd",
        "outputId": "80f24ed2-891c-4535-95b5-5cb95a6649d8"
      },
      "source": [
        "import pandas as pd\n",
        "\n",
        "# new csv files with raw data: add url below (see example below)\n",
        "url_2020 = 'https://raw.githubusercontent.com/ds5110/stinky/master/vessels_data_raw/2020%20SMRO%20VESSEL%20ARRIVALS.csv'\n",
        "url_2021 = 'https://raw.githubusercontent.com/ds5110/stinky/master/vessels_data_raw/2021%20SMRO%20VESSEL%20ARRIVALS.csv'\n",
        "# url_2022 = 'https://raw.githubusercontent.com/ds5110/stinky/master/vessels_data_raw/{NEW_FILENAME}.csv' # example of how to add url to new raw data file:\n",
        "\n",
        "# new csv files with raw data: add url name to list below (see example below)\n",
        "url_lst = [url_2020, url_2021]\n",
        "# url_lst = [url_2020, url_2021, url_2022] # example of how to update url_lst after adding url_2022:\n",
        "\n",
        "def get_data(urls):\n",
        "  '''\n",
        "  Function: get_data()\n",
        "    Retrieves url's to csv files from a list, loads them with pandas into \n",
        "    DataFrames, concatenates them, then returns a single, merged DataFrame.\n",
        "  Parameters:\n",
        "    url_lst: (list) list of url's to csv data files\n",
        "  Returns:\n",
        "    (pd.DataFrame) data from csv files merged into single DataFrame\n",
        "  '''\n",
        "  collector = []\n",
        "  for url in urls:\n",
        "    collector.append(pd.read_csv(url, header=None, skiprows=1))\n",
        "  return pd.concat(collector, ignore_index=True)\n",
        "\n",
        "df_vessels = get_data(url_lst)\n",
        "print(df_vessels.shape)"
      ],
      "execution_count": null,
      "outputs": [
        {
          "output_type": "stream",
          "text": [
            "(770, 13)\n"
          ],
          "name": "stdout"
        }
      ]
    },
    {
      "cell_type": "code",
      "metadata": {
        "id": "FgO79v-LXLIP"
      },
      "source": [
        "# rename columns\n",
        "col_names = ['ARRIVAL DATE', 'ARRIVAL TIME (if avail)', 'TERMINAL', \n",
        "             'SHIP NAME', 'LAST PORT OF CALL (if avail)', 'PRODUCT TYPE - OIL',\n",
        "             'PRODUCT AMOUNT - OIL, Incoming (Multiply metric tons by 7.5 for approx bbls)',\n",
        "             'PRODUCT AMOUNT - OIL, Outgoing', 'RUNNING TOTAL (Oil)',\n",
        "             'PRODUCT TYPE - NON-OIL', 'PRODUCT AMOUNT - NON OIL, Incoming',\n",
        "             'PRODUCT AMOUNT - NON OIL, Outgoing', 'Running Total (Specify units) (Non-Oil)']\n",
        "\n",
        "df_vessels.columns = col_names"
      ],
      "execution_count": null,
      "outputs": []
    },
    {
      "cell_type": "code",
      "metadata": {
        "id": "SEAXdzyQGBOL"
      },
      "source": [
        "import string\n",
        "\n",
        "def separate_date_cols(df):\n",
        "  '''\n",
        "  Function: separate_date_cols()\n",
        "    Converts 'Arrival Date' column to datetime object and creates new, separate \n",
        "    columns for year, month, day, and month_name\n",
        "  Parameters:\n",
        "    df: (pandas.DataFrame object) input dataframe (df_vessels)\n",
        "  Returns:\n",
        "    None\n",
        "  '''\n",
        "  df['ARRIVAL DATE']=pd.to_datetime(df['ARRIVAL DATE'])\n",
        "  df['Year']=df['ARRIVAL DATE'].dt.year\n",
        "  df['Month']=df['ARRIVAL DATE'].dt.month\n",
        "  df['Day']=df['ARRIVAL DATE'].dt.day\n",
        "  df['Month_name'] = pd.to_datetime(df['Month'], format='%m').dt.month_name().str.slice(stop=3)\n",
        "\n",
        "def strip_char(df):\n",
        "  '''\n",
        "  Function: strip_char(df)\n",
        "    Removes digits and special characters from 'Product type - oil' column\n",
        "  Parameters:\n",
        "    df: (pandas.DataFrame object) input dataframe (df_vessels)\n",
        "  Returns:\n",
        "    None\n",
        "  '''\n",
        "  df['PRODUCT TYPE - OIL'] = df['PRODUCT TYPE - OIL'].replace(['#'+'\\d '],'',regex=True)"
      ],
      "execution_count": null,
      "outputs": []
    },
    {
      "cell_type": "code",
      "metadata": {
        "id": "mLwWhcwoX358"
      },
      "source": [
        "# create separate columns for year/month/day\n",
        "separate_date_cols(df_vessels)\n",
        "\n",
        "# strip characters from 'Product Type - Oil\"\n",
        "strip_char(df_vessels)"
      ],
      "execution_count": null,
      "outputs": []
    },
    {
      "cell_type": "code",
      "metadata": {
        "colab": {
          "base_uri": "https://localhost:8080/",
          "height": 717
        },
        "id": "-Z0-Yuxfk-Jb",
        "outputId": "90d145d9-557e-4cce-e265-27c2933cf4e6"
      },
      "source": [
        "df_vessels\n"
      ],
      "execution_count": null,
      "outputs": [
        {
          "output_type": "execute_result",
          "data": {
            "text/html": [
              "<div>\n",
              "<style scoped>\n",
              "    .dataframe tbody tr th:only-of-type {\n",
              "        vertical-align: middle;\n",
              "    }\n",
              "\n",
              "    .dataframe tbody tr th {\n",
              "        vertical-align: top;\n",
              "    }\n",
              "\n",
              "    .dataframe thead th {\n",
              "        text-align: right;\n",
              "    }\n",
              "</style>\n",
              "<table border=\"1\" class=\"dataframe\">\n",
              "  <thead>\n",
              "    <tr style=\"text-align: right;\">\n",
              "      <th></th>\n",
              "      <th>ARRIVAL DATE</th>\n",
              "      <th>ARRIVAL TIME (if avail)</th>\n",
              "      <th>TERMINAL</th>\n",
              "      <th>SHIP NAME</th>\n",
              "      <th>LAST PORT OF CALL (if avail)</th>\n",
              "      <th>PRODUCT TYPE - OIL</th>\n",
              "      <th>PRODUCT AMOUNT - OIL, Incoming (Multiply metric tons by 7.5 for approx bbls)</th>\n",
              "      <th>PRODUCT AMOUNT - OIL, Outgoing</th>\n",
              "      <th>RUNNING TOTAL (Oil)</th>\n",
              "      <th>PRODUCT TYPE - NON-OIL</th>\n",
              "      <th>PRODUCT AMOUNT - NON OIL, Incoming</th>\n",
              "      <th>PRODUCT AMOUNT - NON OIL, Outgoing</th>\n",
              "      <th>Running Total (Specify units) (Non-Oil)</th>\n",
              "      <th>Year</th>\n",
              "      <th>Month</th>\n",
              "      <th>Day</th>\n",
              "      <th>Month_name</th>\n",
              "    </tr>\n",
              "  </thead>\n",
              "  <tbody>\n",
              "    <tr>\n",
              "      <th>0</th>\n",
              "      <td>2020-01-02</td>\n",
              "      <td>NaN</td>\n",
              "      <td>Citgo</td>\n",
              "      <td>New England</td>\n",
              "      <td>St.John</td>\n",
              "      <td>23 - Unleaded Gasoline</td>\n",
              "      <td>80,000</td>\n",
              "      <td>NaN</td>\n",
              "      <td>80,000</td>\n",
              "      <td>NaN</td>\n",
              "      <td>NaN</td>\n",
              "      <td>NaN</td>\n",
              "      <td>0</td>\n",
              "      <td>2020</td>\n",
              "      <td>1</td>\n",
              "      <td>2</td>\n",
              "      <td>Jan</td>\n",
              "    </tr>\n",
              "    <tr>\n",
              "      <th>1</th>\n",
              "      <td>2020-01-02</td>\n",
              "      <td>NaN</td>\n",
              "      <td>Citgo</td>\n",
              "      <td>New England</td>\n",
              "      <td>St.John</td>\n",
              "      <td>28 - Premium Unleaded Gasoline</td>\n",
              "      <td>20,000</td>\n",
              "      <td>NaN</td>\n",
              "      <td>100,000</td>\n",
              "      <td>NaN</td>\n",
              "      <td>NaN</td>\n",
              "      <td>NaN</td>\n",
              "      <td>0</td>\n",
              "      <td>2020</td>\n",
              "      <td>1</td>\n",
              "      <td>2</td>\n",
              "      <td>Jan</td>\n",
              "    </tr>\n",
              "    <tr>\n",
              "      <th>2</th>\n",
              "      <td>2020-01-02</td>\n",
              "      <td>NaN</td>\n",
              "      <td>Citgo</td>\n",
              "      <td>New England</td>\n",
              "      <td>St.John</td>\n",
              "      <td>29 - Diesel (aka ULSD)</td>\n",
              "      <td>22,000</td>\n",
              "      <td>NaN</td>\n",
              "      <td>122,000</td>\n",
              "      <td>NaN</td>\n",
              "      <td>NaN</td>\n",
              "      <td>NaN</td>\n",
              "      <td>0</td>\n",
              "      <td>2020</td>\n",
              "      <td>1</td>\n",
              "      <td>2</td>\n",
              "      <td>Jan</td>\n",
              "    </tr>\n",
              "    <tr>\n",
              "      <th>3</th>\n",
              "      <td>2020-01-02</td>\n",
              "      <td>NaN</td>\n",
              "      <td>Citgo</td>\n",
              "      <td>New England</td>\n",
              "      <td>St.John</td>\n",
              "      <td>23 - Unleaded Gasoline</td>\n",
              "      <td>60,000</td>\n",
              "      <td>NaN</td>\n",
              "      <td>182,000</td>\n",
              "      <td>NaN</td>\n",
              "      <td>NaN</td>\n",
              "      <td>NaN</td>\n",
              "      <td>0</td>\n",
              "      <td>2020</td>\n",
              "      <td>1</td>\n",
              "      <td>2</td>\n",
              "      <td>Jan</td>\n",
              "    </tr>\n",
              "    <tr>\n",
              "      <th>4</th>\n",
              "      <td>2020-01-02</td>\n",
              "      <td>NaN</td>\n",
              "      <td>Citgo</td>\n",
              "      <td>New England</td>\n",
              "      <td>St.John</td>\n",
              "      <td>23 - Unleaded Gasoline</td>\n",
              "      <td>20,000</td>\n",
              "      <td>NaN</td>\n",
              "      <td>202,000</td>\n",
              "      <td>NaN</td>\n",
              "      <td>NaN</td>\n",
              "      <td>NaN</td>\n",
              "      <td>0</td>\n",
              "      <td>2020</td>\n",
              "      <td>1</td>\n",
              "      <td>2</td>\n",
              "      <td>Jan</td>\n",
              "    </tr>\n",
              "    <tr>\n",
              "      <th>...</th>\n",
              "      <td>...</td>\n",
              "      <td>...</td>\n",
              "      <td>...</td>\n",
              "      <td>...</td>\n",
              "      <td>...</td>\n",
              "      <td>...</td>\n",
              "      <td>...</td>\n",
              "      <td>...</td>\n",
              "      <td>...</td>\n",
              "      <td>...</td>\n",
              "      <td>...</td>\n",
              "      <td>...</td>\n",
              "      <td>...</td>\n",
              "      <td>...</td>\n",
              "      <td>...</td>\n",
              "      <td>...</td>\n",
              "      <td>...</td>\n",
              "    </tr>\n",
              "    <tr>\n",
              "      <th>765</th>\n",
              "      <td>2021-05-30</td>\n",
              "      <td>NaN</td>\n",
              "      <td>Global</td>\n",
              "      <td>New England</td>\n",
              "      <td>NaN</td>\n",
              "      <td>06 - Fuel Oil (aka IFO 380)</td>\n",
              "      <td>4,540</td>\n",
              "      <td>NaN</td>\n",
              "      <td>9,037,702</td>\n",
              "      <td>NaN</td>\n",
              "      <td>NaN</td>\n",
              "      <td>NaN</td>\n",
              "      <td>0</td>\n",
              "      <td>2021</td>\n",
              "      <td>5</td>\n",
              "      <td>30</td>\n",
              "      <td>May</td>\n",
              "    </tr>\n",
              "    <tr>\n",
              "      <th>766</th>\n",
              "      <td>2021-05-04</td>\n",
              "      <td>NaN</td>\n",
              "      <td>Sprague</td>\n",
              "      <td>Nor'easter</td>\n",
              "      <td>St. John</td>\n",
              "      <td>02 - Fuel Oil (aka FO, MGO, DMA)</td>\n",
              "      <td>25,000</td>\n",
              "      <td>NaN</td>\n",
              "      <td>9,042,242</td>\n",
              "      <td>NaN</td>\n",
              "      <td>NaN</td>\n",
              "      <td>NaN</td>\n",
              "      <td>0</td>\n",
              "      <td>2021</td>\n",
              "      <td>5</td>\n",
              "      <td>4</td>\n",
              "      <td>May</td>\n",
              "    </tr>\n",
              "    <tr>\n",
              "      <th>767</th>\n",
              "      <td>2021-05-04</td>\n",
              "      <td>NaN</td>\n",
              "      <td>Sprague</td>\n",
              "      <td>Nor'easter</td>\n",
              "      <td>St. John</td>\n",
              "      <td>25 - Jet Fuel</td>\n",
              "      <td>35,000</td>\n",
              "      <td>NaN</td>\n",
              "      <td>9,067,242</td>\n",
              "      <td>NaN</td>\n",
              "      <td>NaN</td>\n",
              "      <td>NaN</td>\n",
              "      <td>0</td>\n",
              "      <td>2021</td>\n",
              "      <td>5</td>\n",
              "      <td>4</td>\n",
              "      <td>May</td>\n",
              "    </tr>\n",
              "    <tr>\n",
              "      <th>768</th>\n",
              "      <td>2021-05-21</td>\n",
              "      <td>NaN</td>\n",
              "      <td>Portland Pipeline</td>\n",
              "      <td>Olympisky Prospect</td>\n",
              "      <td>NaN</td>\n",
              "      <td>61 - Crude Oil</td>\n",
              "      <td>658,000</td>\n",
              "      <td>NaN</td>\n",
              "      <td>9,102,242</td>\n",
              "      <td>NaN</td>\n",
              "      <td>NaN</td>\n",
              "      <td>NaN</td>\n",
              "      <td>0</td>\n",
              "      <td>2021</td>\n",
              "      <td>5</td>\n",
              "      <td>21</td>\n",
              "      <td>May</td>\n",
              "    </tr>\n",
              "    <tr>\n",
              "      <th>769</th>\n",
              "      <td>2021-05-20</td>\n",
              "      <td>NaN</td>\n",
              "      <td>Portland Pipeline</td>\n",
              "      <td>Olympisky Prospect</td>\n",
              "      <td>NaN</td>\n",
              "      <td>61 - Crude Oil</td>\n",
              "      <td>657,243</td>\n",
              "      <td>NaN</td>\n",
              "      <td>9,760,242</td>\n",
              "      <td>NaN</td>\n",
              "      <td>NaN</td>\n",
              "      <td>NaN</td>\n",
              "      <td>0</td>\n",
              "      <td>2021</td>\n",
              "      <td>5</td>\n",
              "      <td>20</td>\n",
              "      <td>May</td>\n",
              "    </tr>\n",
              "  </tbody>\n",
              "</table>\n",
              "<p>770 rows × 17 columns</p>\n",
              "</div>"
            ],
            "text/plain": [
              "    ARRIVAL DATE  ARRIVAL TIME (if avail)  ... Day Month_name\n",
              "0     2020-01-02                      NaN  ...   2        Jan\n",
              "1     2020-01-02                      NaN  ...   2        Jan\n",
              "2     2020-01-02                      NaN  ...   2        Jan\n",
              "3     2020-01-02                      NaN  ...   2        Jan\n",
              "4     2020-01-02                      NaN  ...   2        Jan\n",
              "..           ...                      ...  ...  ..        ...\n",
              "765   2021-05-30                      NaN  ...  30        May\n",
              "766   2021-05-04                      NaN  ...   4        May\n",
              "767   2021-05-04                      NaN  ...   4        May\n",
              "768   2021-05-21                      NaN  ...  21        May\n",
              "769   2021-05-20                      NaN  ...  20        May\n",
              "\n",
              "[770 rows x 17 columns]"
            ]
          },
          "metadata": {},
          "execution_count": 54
        }
      ]
    },
    {
      "cell_type": "code",
      "metadata": {
        "id": "X8T8DWhX-9gh"
      },
      "source": [
        "# sort chronologically\n",
        "df_vessels=df_vessels.sort_values(by='ARRIVAL DATE')\n",
        "\n",
        "# reset index\n",
        "df_vessels=df_vessels.reset_index(drop=True)"
      ],
      "execution_count": null,
      "outputs": []
    },
    {
      "cell_type": "code",
      "metadata": {
        "id": "3UNHesNNT8XY"
      },
      "source": [
        "def convert_float(col):\n",
        "  '''\n",
        "  Function: convert_float()\n",
        "  Parameters:\n",
        "    col: (pandas.Series object) column whose values will be converted to float\n",
        "  Returns:\n",
        "    (list) column values in a list, converted to float\n",
        "  '''\n",
        "  return [float(str(x).replace(',', '')) for x in col]\n",
        "\n",
        "def replace_nan_0(col):\n",
        "  '''\n",
        "  Function: replace_nan()\n",
        "    Replaces any NaN values in input with 0\n",
        "  Parameters:\n",
        "    col: (pandas.Series object) column whose NaN values will be replaced with 0\n",
        "  Returns:\n",
        "    None\n",
        "  '''\n",
        "  col.fillna(0, inplace=True)"
      ],
      "execution_count": null,
      "outputs": []
    },
    {
      "cell_type": "code",
      "metadata": {
        "id": "FfX6aXpiLa8-"
      },
      "source": [
        "# convert numerical data columns to float\n",
        "df_vessels['PRODUCT AMOUNT - OIL, Incoming (Multiply metric tons by 7.5 for approx bbls)'] = convert_float(df_vessels['PRODUCT AMOUNT - OIL, Incoming (Multiply metric tons by 7.5 for approx bbls)'])\n",
        "df_vessels['PRODUCT AMOUNT - OIL, Outgoing'] = convert_float(df_vessels['PRODUCT AMOUNT - OIL, Outgoing'])\n",
        "df_vessels['Running Total (Specify units) (Non-Oil)'] = convert_float(df_vessels['Running Total (Specify units) (Non-Oil)'])\n",
        "\n",
        "# replace NaN with 0\n",
        "replace_nan_0(df_vessels['PRODUCT AMOUNT - OIL, Outgoing'])\n",
        "replace_nan_0(df_vessels['PRODUCT AMOUNT - OIL, Incoming (Multiply metric tons by 7.5 for approx bbls)'])\n",
        "replace_nan_0(df_vessels['PRODUCT AMOUNT - NON OIL, Incoming'])\n",
        "replace_nan_0(df_vessels['PRODUCT AMOUNT - NON OIL, Outgoing'])"
      ],
      "execution_count": null,
      "outputs": []
    },
    {
      "cell_type": "code",
      "metadata": {
        "id": "uwPFFRdQDUC8"
      },
      "source": [
        "def correct_runningtotal(incoming, outgoing):\n",
        "  '''\n",
        "  Function: correct_runningtotal()\n",
        "    Re-calculates values in 'Running Total' columns (net cumulative sums), due \n",
        "    to errors in original values in Excel files and to maintain the cumulative\n",
        "    sum across merged spreadsheets.\n",
        "  Paramaters:\n",
        "    incoming: (pandas.Series object) column with values to be added to \n",
        "      cumulative sum\n",
        "    outgoing: (pandas.Series object) column with values to be subtracted from \n",
        "      cumulative sum\n",
        "  Returns:\n",
        "    running_total: (list) new values for 'Running total' columns\n",
        "  '''\n",
        "  running_total = []\n",
        "  net = incoming[0]\n",
        "  running_total.append(net)\n",
        "  for i in range(1, len(df_vessels)):\n",
        "    net += incoming[i]\n",
        "    net -= outgoing[i]\n",
        "    running_total.append(net)\n",
        "  return running_total"
      ],
      "execution_count": null,
      "outputs": []
    },
    {
      "cell_type": "code",
      "metadata": {
        "id": "Ew-pHLQ4Ds9p"
      },
      "source": [
        "# correct 'Running total (Oil)'\n",
        "incoming = df_vessels['PRODUCT AMOUNT - OIL, Incoming (Multiply metric tons by 7.5 for approx bbls)']\n",
        "outgoing = df_vessels['PRODUCT AMOUNT - OIL, Outgoing']\n",
        "df_vessels['RUNNING TOTAL (Oil)'] = correct_runningtotal(incoming, outgoing)\n",
        "\n",
        "# correct 'Running total (Non-oil)'\n",
        "incoming = df_vessels['PRODUCT AMOUNT - NON OIL, Incoming']\n",
        "outgoing = df_vessels['PRODUCT AMOUNT - NON OIL, Outgoing']\n",
        "df_vessels['Running Total (Specify units) (Non-Oil)'] = correct_runningtotal(incoming, outgoing)"
      ],
      "execution_count": null,
      "outputs": []
    },
    {
      "cell_type": "code",
      "metadata": {
        "colab": {
          "base_uri": "https://localhost:8080/"
        },
        "id": "3Ky8zxqe5U0b",
        "outputId": "f4fa8184-7a17-4dc9-d6ae-2177e1961412"
      },
      "source": [
        "df_vessels.isna().sum()"
      ],
      "execution_count": null,
      "outputs": [
        {
          "output_type": "execute_result",
          "data": {
            "text/plain": [
              "ARRIVAL DATE                                                                      0\n",
              "ARRIVAL TIME (if avail)                                                         770\n",
              "TERMINAL                                                                          0\n",
              "SHIP NAME                                                                         0\n",
              "LAST PORT OF CALL (if avail)                                                     67\n",
              "PRODUCT TYPE - OIL                                                                0\n",
              "PRODUCT AMOUNT - OIL, Incoming (Multiply metric tons by 7.5 for approx bbls)      0\n",
              "PRODUCT AMOUNT - OIL, Outgoing                                                    0\n",
              "RUNNING TOTAL (Oil)                                                               0\n",
              "PRODUCT TYPE - NON-OIL                                                          770\n",
              "PRODUCT AMOUNT - NON OIL, Incoming                                                0\n",
              "PRODUCT AMOUNT - NON OIL, Outgoing                                                0\n",
              "Running Total (Specify units) (Non-Oil)                                           0\n",
              "Year                                                                              0\n",
              "Month                                                                             0\n",
              "Day                                                                               0\n",
              "Month_name                                                                        0\n",
              "dtype: int64"
            ]
          },
          "metadata": {},
          "execution_count": 60
        }
      ]
    },
    {
      "cell_type": "code",
      "metadata": {
        "id": "chS-a3gXjK45",
        "colab": {
          "base_uri": "https://localhost:8080/",
          "height": 17
        },
        "outputId": "f7682946-68ae-45c0-b175-0aad15f4a7a3"
      },
      "source": [
        "# download tidied df to user's computer (local files)\n",
        "from google.colab import files\n",
        "df_vessels.to_csv('df_vessels.csv', index=False)\n",
        "files.download('df_vessels.csv')"
      ],
      "execution_count": null,
      "outputs": [
        {
          "output_type": "display_data",
          "data": {
            "application/javascript": [
              "\n",
              "    async function download(id, filename, size) {\n",
              "      if (!google.colab.kernel.accessAllowed) {\n",
              "        return;\n",
              "      }\n",
              "      const div = document.createElement('div');\n",
              "      const label = document.createElement('label');\n",
              "      label.textContent = `Downloading \"${filename}\": `;\n",
              "      div.appendChild(label);\n",
              "      const progress = document.createElement('progress');\n",
              "      progress.max = size;\n",
              "      div.appendChild(progress);\n",
              "      document.body.appendChild(div);\n",
              "\n",
              "      const buffers = [];\n",
              "      let downloaded = 0;\n",
              "\n",
              "      const channel = await google.colab.kernel.comms.open(id);\n",
              "      // Send a message to notify the kernel that we're ready.\n",
              "      channel.send({})\n",
              "\n",
              "      for await (const message of channel.messages) {\n",
              "        // Send a message to notify the kernel that we're ready.\n",
              "        channel.send({})\n",
              "        if (message.buffers) {\n",
              "          for (const buffer of message.buffers) {\n",
              "            buffers.push(buffer);\n",
              "            downloaded += buffer.byteLength;\n",
              "            progress.value = downloaded;\n",
              "          }\n",
              "        }\n",
              "      }\n",
              "      const blob = new Blob(buffers, {type: 'application/binary'});\n",
              "      const a = document.createElement('a');\n",
              "      a.href = window.URL.createObjectURL(blob);\n",
              "      a.download = filename;\n",
              "      div.appendChild(a);\n",
              "      a.click();\n",
              "      div.remove();\n",
              "    }\n",
              "  "
            ],
            "text/plain": [
              "<IPython.core.display.Javascript object>"
            ]
          },
          "metadata": {}
        },
        {
          "output_type": "display_data",
          "data": {
            "application/javascript": [
              "download(\"download_fae828b3-586f-4350-9a29-c9deef5cac65\", \"df_vessels.csv\", 88657)"
            ],
            "text/plain": [
              "<IPython.core.display.Javascript object>"
            ]
          },
          "metadata": {}
        }
      ]
    }
  ]
}